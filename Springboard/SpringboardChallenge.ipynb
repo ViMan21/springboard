{
  "nbformat": 4,
  "nbformat_minor": 0,
  "metadata": {
    "colab": {
      "name": "SpringboardChallenge.ipynb",
      "provenance": [],
      "toc_visible": true
    },
    "kernelspec": {
      "name": "python3",
      "display_name": "Python 3"
    }
  },
  "cells": [
    {
      "cell_type": "markdown",
      "metadata": {
        "id": "e5ElEBkjmren",
        "colab_type": "text"
      },
      "source": [
        "# **Data Analysis Interview Challenge**"
      ]
    },
    {
      "cell_type": "markdown",
      "metadata": {
        "id": "QElWF67hm5Jy",
        "colab_type": "text"
      },
      "source": [
        "Part 1 - Exploratory Data Analysis"
      ]
    },
    {
      "cell_type": "code",
      "metadata": {
        "id": "EcyEITAcnD6s",
        "colab_type": "code",
        "colab": {}
      },
      "source": [
        "import pandas as pd\n",
        "import matplotlib.pyplot as plt"
      ],
      "execution_count": 0,
      "outputs": []
    },
    {
      "cell_type": "code",
      "metadata": {
        "id": "lMmMjqUxTsA3",
        "colab_type": "code",
        "colab": {}
      },
      "source": [
        "df = pd.read_json('logins.json')"
      ],
      "execution_count": 0,
      "outputs": []
    },
    {
      "cell_type": "code",
      "metadata": {
        "id": "8UkoD_e_TwMX",
        "colab_type": "code",
        "outputId": "b9c37033-c5aa-4e7a-979a-94231d4d565b",
        "colab": {
          "base_uri": "https://localhost:8080/",
          "height": 204
        }
      },
      "source": [
        "df.head()"
      ],
      "execution_count": 0,
      "outputs": [
        {
          "output_type": "execute_result",
          "data": {
            "text/html": [
              "<div>\n",
              "<style scoped>\n",
              "    .dataframe tbody tr th:only-of-type {\n",
              "        vertical-align: middle;\n",
              "    }\n",
              "\n",
              "    .dataframe tbody tr th {\n",
              "        vertical-align: top;\n",
              "    }\n",
              "\n",
              "    .dataframe thead th {\n",
              "        text-align: right;\n",
              "    }\n",
              "</style>\n",
              "<table border=\"1\" class=\"dataframe\">\n",
              "  <thead>\n",
              "    <tr style=\"text-align: right;\">\n",
              "      <th></th>\n",
              "      <th>login_time</th>\n",
              "    </tr>\n",
              "  </thead>\n",
              "  <tbody>\n",
              "    <tr>\n",
              "      <th>0</th>\n",
              "      <td>1970-01-01 20:13:18</td>\n",
              "    </tr>\n",
              "    <tr>\n",
              "      <th>1</th>\n",
              "      <td>1970-01-01 20:16:10</td>\n",
              "    </tr>\n",
              "    <tr>\n",
              "      <th>2</th>\n",
              "      <td>1970-01-01 20:16:37</td>\n",
              "    </tr>\n",
              "    <tr>\n",
              "      <th>3</th>\n",
              "      <td>1970-01-01 20:16:36</td>\n",
              "    </tr>\n",
              "    <tr>\n",
              "      <th>4</th>\n",
              "      <td>1970-01-01 20:26:21</td>\n",
              "    </tr>\n",
              "  </tbody>\n",
              "</table>\n",
              "</div>"
            ],
            "text/plain": [
              "           login_time\n",
              "0 1970-01-01 20:13:18\n",
              "1 1970-01-01 20:16:10\n",
              "2 1970-01-01 20:16:37\n",
              "3 1970-01-01 20:16:36\n",
              "4 1970-01-01 20:26:21"
            ]
          },
          "metadata": {
            "tags": []
          },
          "execution_count": 4
        }
      ]
    },
    {
      "cell_type": "code",
      "metadata": {
        "id": "Qk1khR72T0Xk",
        "colab_type": "code",
        "colab": {}
      },
      "source": [
        "quater_df = (pd.to_datetime(df['login_time'])\n",
        "       .dt.floor('15T')\n",
        "       .value_counts()\n",
        "       .rename_axis('login_time')\n",
        "       .reset_index(name='count'))\n",
        "quater_df = quater_df.sort_values('login_time')"
      ],
      "execution_count": 0,
      "outputs": []
    },
    {
      "cell_type": "code",
      "metadata": {
        "id": "uMYWpBwil8dU",
        "colab_type": "code",
        "outputId": "a84253b1-1ad6-49ea-92c1-14c0613b6ad7",
        "colab": {
          "base_uri": "https://localhost:8080/",
          "height": 282
        }
      },
      "source": [
        "plt.plot(quater_df['login_time'], quater_df['count'])"
      ],
      "execution_count": 0,
      "outputs": [
        {
          "output_type": "execute_result",
          "data": {
            "text/plain": [
              "[<matplotlib.lines.Line2D at 0x7f31b47786d8>]"
            ]
          },
          "metadata": {
            "tags": []
          },
          "execution_count": 7
        },
        {
          "output_type": "display_data",
          "data": {
            "image/png": "[encoded data removed]",
            "text/plain": [
              "<Figure size 432x288 with 1 Axes>"
            ]
          },
          "metadata": {
            "tags": []
          }
        }
      ]
    },
    {
      "cell_type": "code",
      "metadata": {
        "id": "nAe3BUo3qaiL",
        "colab_type": "code",
        "colab": {}
      },
      "source": [
        "month_df = quater_df.loc[(quater_df['login_time'] >= '1970-03-01') & (quater_df['login_time'] <= '1970-04-01')]"
      ],
      "execution_count": 0,
      "outputs": []
    },
    {
      "cell_type": "code",
      "metadata": {
        "id": "nVbuZU1XufCX",
        "colab_type": "code",
        "outputId": "aab54de1-4a8d-474b-b0d6-8256064e1874",
        "colab": {
          "base_uri": "https://localhost:8080/",
          "height": 282
        }
      },
      "source": [
        "plt.plot(month_df['login_time'], month_df['count'])"
      ],
      "execution_count": 0,
      "outputs": [
        {
          "output_type": "execute_result",
          "data": {
            "text/plain": [
              "[<matplotlib.lines.Line2D at 0x7f31b4668fd0>]"
            ]
          },
          "metadata": {
            "tags": []
          },
          "execution_count": 9
        },
        {
          "output_type": "display_data",
          "data": {
            "image/png": "[encoded data removed]",
            "text/plain": [
              "<Figure size 432x288 with 1 Axes>"
            ]
          },
          "metadata": {
            "tags": []
          }
        }
      ]
    },
    {
      "cell_type": "code",
      "metadata": {
        "id": "akbmweykvbLY",
        "colab_type": "code",
        "colab": {}
      },
      "source": [
        "week_df = quater_df.loc[(quater_df['login_time'] >= '1970-03-01') & (quater_df['login_time'] <= '1970-03-08')]"
      ],
      "execution_count": 0,
      "outputs": []
    },
    {
      "cell_type": "code",
      "metadata": {
        "id": "tjtwtJxAvusL",
        "colab_type": "code",
        "outputId": "d294918a-9fa5-46b4-92ad-37dc1d4d5b7d",
        "colab": {
          "base_uri": "https://localhost:8080/",
          "height": 282
        }
      },
      "source": [
        "plt.plot(week_df['login_time'], week_df['count'])"
      ],
      "execution_count": 0,
      "outputs": [
        {
          "output_type": "execute_result",
          "data": {
            "text/plain": [
              "[<matplotlib.lines.Line2D at 0x7f31b467d668>]"
            ]
          },
          "metadata": {
            "tags": []
          },
          "execution_count": 11
        },
        {
          "output_type": "display_data",
          "data": {
            "image/png": "[encoded data removed]",
            "text/plain": [
              "<Figure size 432x288 with 1 Axes>"
            ]
          },
          "metadata": {
            "tags": []
          }
        }
      ]
    },
    {
      "cell_type": "code",
      "metadata": {
        "id": "Oo-Tta1U0t04",
        "colab_type": "code",
        "outputId": "b5a1a690-aa9a-491a-bc5a-b72fcb24f253",
        "colab": {
          "base_uri": "https://localhost:8080/",
          "height": 102
        }
      },
      "source": [
        "print('Min:    {}'.format(quater_df['count'].min()))\n",
        "print('Max:    {}'.format(quater_df['count'].max()))\n",
        "print('Mean:   {}'.format(quater_df['count'].mean()))\n",
        "print('Sum: {}'.format(quater_df.sum()))"
      ],
      "execution_count": 0,
      "outputs": [
        {
          "output_type": "stream",
          "text": [
            "Min:    1\n",
            "Max:    73\n",
            "Mean:   9.928792239633301\n",
            "Sum: count    93142\n",
            "dtype: int64\n"
          ],
          "name": "stdout"
        }
      ]
    },
    {
      "cell_type": "code",
      "metadata": {
        "id": "-z71nkQFv377",
        "colab_type": "code",
        "colab": {}
      },
      "source": [
        "day_df = quater_df.loc[(quater_df['login_time'] >= '1970-03-01') & (quater_df['login_time'] <= '1970-03-02')]"
      ],
      "execution_count": 0,
      "outputs": []
    },
    {
      "cell_type": "code",
      "metadata": {
        "id": "2UeEaEV4v9i8",
        "colab_type": "code",
        "outputId": "d5dd57b4-a581-466b-8e3f-1c63de55efd9",
        "colab": {
          "base_uri": "https://localhost:8080/",
          "height": 282
        }
      },
      "source": [
        "plt.plot(day_df['login_time'], day_df['count'])"
      ],
      "execution_count": 0,
      "outputs": [
        {
          "output_type": "execute_result",
          "data": {
            "text/plain": [
              "[<matplotlib.lines.Line2D at 0x7f31b4565e80>]"
            ]
          },
          "metadata": {
            "tags": []
          },
          "execution_count": 14
        },
        {
          "output_type": "display_data",
          "data": {
            "image/png": "[encoded data removed]",
            "text/plain": [
              "<Figure size 432x288 with 1 Axes>"
            ]
          },
          "metadata": {
            "tags": []
          }
        }
      ]
    },
    {
      "cell_type": "code",
      "metadata": {
        "id": "nnUyBc30wBGO",
        "colab_type": "code",
        "colab": {}
      },
      "source": [
        "daily_df = (pd.to_datetime(df['login_time'])\n",
        "       .dt.floor('1D')\n",
        "       .value_counts()\n",
        "       .rename_axis('login_time')\n",
        "       .reset_index(name='count'))\n",
        "daily_df = daily_df.sort_values('login_time')"
      ],
      "execution_count": 0,
      "outputs": []
    },
    {
      "cell_type": "code",
      "metadata": {
        "id": "qQJLrMSkwdsg",
        "colab_type": "code",
        "outputId": "31c018f5-c9d0-4303-d4b8-27adee239aa3",
        "colab": {
          "base_uri": "https://localhost:8080/",
          "height": 204
        }
      },
      "source": [
        "daily_df.head()"
      ],
      "execution_count": 0,
      "outputs": [
        {
          "output_type": "execute_result",
          "data": {
            "text/html": [
              "<div>\n",
              "<style scoped>\n",
              "    .dataframe tbody tr th:only-of-type {\n",
              "        vertical-align: middle;\n",
              "    }\n",
              "\n",
              "    .dataframe tbody tr th {\n",
              "        vertical-align: top;\n",
              "    }\n",
              "\n",
              "    .dataframe thead th {\n",
              "        text-align: right;\n",
              "    }\n",
              "</style>\n",
              "<table border=\"1\" class=\"dataframe\">\n",
              "  <thead>\n",
              "    <tr style=\"text-align: right;\">\n",
              "      <th></th>\n",
              "      <th>login_time</th>\n",
              "      <th>count</th>\n",
              "    </tr>\n",
              "  </thead>\n",
              "  <tbody>\n",
              "    <tr>\n",
              "      <th>102</th>\n",
              "      <td>1970-01-01</td>\n",
              "      <td>112</td>\n",
              "    </tr>\n",
              "    <tr>\n",
              "      <th>71</th>\n",
              "      <td>1970-01-02</td>\n",
              "      <td>681</td>\n",
              "    </tr>\n",
              "    <tr>\n",
              "      <th>54</th>\n",
              "      <td>1970-01-03</td>\n",
              "      <td>793</td>\n",
              "    </tr>\n",
              "    <tr>\n",
              "      <th>56</th>\n",
              "      <td>1970-01-04</td>\n",
              "      <td>788</td>\n",
              "    </tr>\n",
              "    <tr>\n",
              "      <th>100</th>\n",
              "      <td>1970-01-05</td>\n",
              "      <td>459</td>\n",
              "    </tr>\n",
              "  </tbody>\n",
              "</table>\n",
              "</div>"
            ],
            "text/plain": [
              "    login_time  count\n",
              "102 1970-01-01    112\n",
              "71  1970-01-02    681\n",
              "54  1970-01-03    793\n",
              "56  1970-01-04    788\n",
              "100 1970-01-05    459"
            ]
          },
          "metadata": {
            "tags": []
          },
          "execution_count": 19
        }
      ]
    },
    {
      "cell_type": "code",
      "metadata": {
        "id": "eGdFjjnnxY-7",
        "colab_type": "code",
        "outputId": "febb7ff0-9f86-40a2-a075-0539b6aff37f",
        "colab": {
          "base_uri": "https://localhost:8080/",
          "height": 282
        }
      },
      "source": [
        "plt.plot(daily_df['login_time'], daily_df['count'])"
      ],
      "execution_count": 0,
      "outputs": [
        {
          "output_type": "execute_result",
          "data": {
            "text/plain": [
              "[<matplotlib.lines.Line2D at 0x7f31b4465828>]"
            ]
          },
          "metadata": {
            "tags": []
          },
          "execution_count": 20
        },
        {
          "output_type": "display_data",
          "data": {
            "image/png": "[encoded data removed]",
            "text/plain": [
              "<Figure size 432x288 with 1 Axes>"
            ]
          },
          "metadata": {
            "tags": []
          }
        }
      ]
    },
    {
      "cell_type": "code",
      "metadata": {
        "id": "StQl5sQmxeSO",
        "colab_type": "code",
        "outputId": "9b16905c-641b-4f5b-cf19-c5bf688aef0c",
        "colab": {
          "base_uri": "https://localhost:8080/",
          "height": 102
        }
      },
      "source": [
        "print('Min:    {}'.format(daily_df['count'].min()))\n",
        "print('Max:    {}'.format(daily_df['count'].max()))\n",
        "print('Mean:   {}'.format(daily_df['count'].mean()))\n",
        "print('Sum: {}'.format(daily_df.sum()))"
      ],
      "execution_count": 0,
      "outputs": [
        {
          "output_type": "stream",
          "text": [
            "Min:    112\n",
            "Max:    1889\n",
            "Mean:   904.2912621359224\n",
            "Sum: count    93142\n",
            "dtype: int64\n"
          ],
          "name": "stdout"
        }
      ]
    },
    {
      "cell_type": "markdown",
      "metadata": {
        "id": "ydf-H2ts06XH",
        "colab_type": "text"
      },
      "source": [
        "Part 2 ‑ Experiment and metrics design"
      ]
    },
    {
      "cell_type": "markdown",
      "metadata": {
        "id": "8fjcnXzK6mdc",
        "colab_type": "text"
      },
      "source": [
        "1. If there is an increase in the total number of driver partner travelling across the bridge that is porpotional to the number of reimbursement requests, it would indicate a success of the toll reimbursement program. I would choose this metric because a solo increase of drivers on the bridge could be caused by external factors but if the increase is linear to the amount reimbursement requests, it would be a clear indicator that the increase was directly caused by the reimbursement program."
      ]
    },
    {
      "cell_type": "markdown",
      "metadata": {
        "id": "WuzDvuIw8PXQ",
        "colab_type": "text"
      },
      "source": [
        "2. I would compare existing data from the toll system with the data after the reimbursement program has been implemented.\n",
        "\n",
        "> a) As a car passes a toll, its information is recorded by the tolling system. After the reimbursement program is in affect, we will continue to record the toll system data, but also incorperate the data from the reimbursement program.\n",
        "\n",
        "\n",
        ">b) Compare proportional increase of the number of drivers to the number of reimbursement requests.\n",
        "\n",
        "> c) I would create a line graph using the data from before and after the reimbursement program, highlighting any significant changes. I would also compare that to a graph of the number of reimbursement requests."
      ]
    },
    {
      "cell_type": "markdown",
      "metadata": {
        "id": "NHSZgBWIAgPV",
        "colab_type": "text"
      },
      "source": [
        "**Part 3 ‑ Predictive modeling**"
      ]
    },
    {
      "cell_type": "markdown",
      "metadata": {
        "id": "JD3X_EOx5kbx",
        "colab_type": "text"
      },
      "source": [
        "1. To clean the data I first filled the the NaN values with 0. Next I created a new column called 'days_between_first_last_trip' which calculated the number of days between the 'signup_date' and the 'last_trip_date'.  Then I converted the City column into an integer with the get dummies function. Now I created the target series which is just a boolean value where if the 'trips_in_first_30_days' is greater than 1, it's set to true, or else it's false. Next I dropped the 'signup_date', 'last_trip_date', 'city', 'phone', and 'trips_in_first_30_days' columns. The code performing these steps are below."
      ]
    },
    {
      "cell_type": "code",
      "metadata": {
        "id": "H4sdLaSL0900",
        "colab_type": "code",
        "colab": {}
      },
      "source": [
        "import json\n",
        "from datetime import date, datetime\n",
        "import numpy as np"
      ],
      "execution_count": 0,
      "outputs": []
    },
    {
      "cell_type": "code",
      "metadata": {
        "id": "T7HwrlbG2cGx",
        "colab_type": "code",
        "colab": {}
      },
      "source": [
        "with open('ultimate_data_challenge.json') as json_file:\n",
        "  data = json.load(json_file)\n",
        "ultimate = pd.io.json.json_normalize(data)"
      ],
      "execution_count": 0,
      "outputs": []
    },
    {
      "cell_type": "code",
      "metadata": {
        "id": "BUj0LzBB34Qm",
        "colab_type": "code",
        "outputId": "9686ce0c-3b99-4645-8100-987a2f133392",
        "colab": {
          "base_uri": "https://localhost:8080/",
          "height": 306
        }
      },
      "source": [
        "ultimate.info()"
      ],
      "execution_count": 0,
      "outputs": [
        {
          "output_type": "stream",
          "text": [
            "<class 'pandas.core.frame.DataFrame'>\n",
            "RangeIndex: 50000 entries, 0 to 49999\n",
            "Data columns (total 12 columns):\n",
            "city                      50000 non-null object\n",
            "trips_in_first_30_days    50000 non-null int64\n",
            "signup_date               50000 non-null object\n",
            "avg_rating_of_driver      41878 non-null float64\n",
            "avg_surge                 50000 non-null float64\n",
            "last_trip_date            50000 non-null object\n",
            "phone                     49604 non-null object\n",
            "surge_pct                 50000 non-null float64\n",
            "ultimate_black_user       50000 non-null bool\n",
            "weekday_pct               50000 non-null float64\n",
            "avg_dist                  50000 non-null float64\n",
            "avg_rating_by_driver      49799 non-null float64\n",
            "dtypes: bool(1), float64(6), int64(1), object(4)\n",
            "memory usage: 4.2+ MB\n"
          ],
          "name": "stdout"
        }
      ]
    },
    {
      "cell_type": "code",
      "metadata": {
        "id": "Gh1gZB2irZtI",
        "colab_type": "code",
        "outputId": "748fb909-4c6a-4c23-9fa1-b016e69cb9ff",
        "colab": {
          "base_uri": "https://localhost:8080/",
          "height": 306
        }
      },
      "source": [
        "ultimate = ultimate.fillna(0)\n",
        "ultimate.info()"
      ],
      "execution_count": 0,
      "outputs": [
        {
          "output_type": "stream",
          "text": [
            "<class 'pandas.core.frame.DataFrame'>\n",
            "RangeIndex: 50000 entries, 0 to 49999\n",
            "Data columns (total 12 columns):\n",
            "city                      50000 non-null object\n",
            "trips_in_first_30_days    50000 non-null int64\n",
            "signup_date               50000 non-null object\n",
            "avg_rating_of_driver      50000 non-null float64\n",
            "avg_surge                 50000 non-null float64\n",
            "last_trip_date            50000 non-null object\n",
            "phone                     50000 non-null object\n",
            "surge_pct                 50000 non-null float64\n",
            "ultimate_black_user       50000 non-null bool\n",
            "weekday_pct               50000 non-null float64\n",
            "avg_dist                  50000 non-null float64\n",
            "avg_rating_by_driver      50000 non-null float64\n",
            "dtypes: bool(1), float64(6), int64(1), object(4)\n",
            "memory usage: 4.2+ MB\n"
          ],
          "name": "stdout"
        }
      ]
    },
    {
      "cell_type": "code",
      "metadata": {
        "id": "DXiEDolM35hR",
        "colab_type": "code",
        "outputId": "675d2a0c-51ab-4ad3-8d8a-c687b09d41e1",
        "colab": {
          "base_uri": "https://localhost:8080/",
          "height": 34
        }
      },
      "source": [
        "num_of_retained = ultimate[ultimate['trips_in_first_30_days'] > 1 ]['trips_in_first_30_days'].count()\n",
        "total_users = ultimate['trips_in_first_30_days'].count()\n",
        "print('{}% of observed users were retained.'.format(num_of_retained/total_users))"
      ],
      "execution_count": 0,
      "outputs": [
        {
          "output_type": "stream",
          "text": [
            "0.41004% of observed users were retained.\n"
          ],
          "name": "stdout"
        }
      ]
    },
    {
      "cell_type": "code",
      "metadata": {
        "id": "KJt_74RjYcZr",
        "colab_type": "code",
        "outputId": "d5010cb5-df3c-45aa-e5be-46150d08ac11",
        "colab": {
          "base_uri": "https://localhost:8080/",
          "height": 323
        }
      },
      "source": [
        "ultimate['last_trip_date'] = ultimate['last_trip_date'].apply(lambda y : datetime.strptime(y,'%Y-%m-%d'))\n",
        "ultimate['signup_date'] = ultimate['signup_date'].apply(lambda y : datetime.strptime(y,'%Y-%m-%d'))\n",
        "ultimate['days_between_first_last_trip'] = ultimate['last_trip_date'] - ultimate['signup_date']\n",
        "ultimate['days_between_first_last_trip'] = ultimate['days_between_first_last_trip'] / np.timedelta64(1, 'D')\n",
        "ultimate.info()"
      ],
      "execution_count": 0,
      "outputs": [
        {
          "output_type": "stream",
          "text": [
            "<class 'pandas.core.frame.DataFrame'>\n",
            "RangeIndex: 50000 entries, 0 to 49999\n",
            "Data columns (total 13 columns):\n",
            "city                            50000 non-null object\n",
            "trips_in_first_30_days          50000 non-null int64\n",
            "signup_date                     50000 non-null datetime64[ns]\n",
            "avg_rating_of_driver            50000 non-null float64\n",
            "avg_surge                       50000 non-null float64\n",
            "last_trip_date                  50000 non-null datetime64[ns]\n",
            "phone                           50000 non-null object\n",
            "surge_pct                       50000 non-null float64\n",
            "ultimate_black_user             50000 non-null bool\n",
            "weekday_pct                     50000 non-null float64\n",
            "avg_dist                        50000 non-null float64\n",
            "avg_rating_by_driver            50000 non-null float64\n",
            "days_between_first_last_trip    50000 non-null float64\n",
            "dtypes: bool(1), datetime64[ns](2), float64(7), int64(1), object(2)\n",
            "memory usage: 4.6+ MB\n"
          ],
          "name": "stdout"
        }
      ]
    },
    {
      "cell_type": "code",
      "metadata": {
        "id": "wyj0Yawnbkhp",
        "colab_type": "code",
        "outputId": "fa85b3f0-08bc-4fd1-b0bb-6e8669385f86",
        "colab": {
          "base_uri": "https://localhost:8080/",
          "height": 34
        }
      },
      "source": [
        "ultimate['city'].unique()"
      ],
      "execution_count": 0,
      "outputs": [
        {
          "output_type": "execute_result",
          "data": {
            "text/plain": [
              "array([\"King's Landing\", 'Astapor', 'Winterfell'], dtype=object)"
            ]
          },
          "metadata": {
            "tags": []
          },
          "execution_count": 32
        }
      ]
    },
    {
      "cell_type": "code",
      "metadata": {
        "id": "dRNHwJ2ob8SJ",
        "colab_type": "code",
        "outputId": "526e1cd2-d92f-4463-dc47-09de62740db2",
        "colab": {
          "base_uri": "https://localhost:8080/",
          "height": 374
        }
      },
      "source": [
        "encoded_city = pd.get_dummies(ultimate['city'], prefix='city')\n",
        "ultimate = ultimate.join(encoded_city)\n",
        "ultimate.info()"
      ],
      "execution_count": 0,
      "outputs": [
        {
          "output_type": "stream",
          "text": [
            "<class 'pandas.core.frame.DataFrame'>\n",
            "RangeIndex: 50000 entries, 0 to 49999\n",
            "Data columns (total 16 columns):\n",
            "city                            50000 non-null object\n",
            "trips_in_first_30_days          50000 non-null int64\n",
            "signup_date                     50000 non-null datetime64[ns]\n",
            "avg_rating_of_driver            50000 non-null float64\n",
            "avg_surge                       50000 non-null float64\n",
            "last_trip_date                  50000 non-null datetime64[ns]\n",
            "phone                           50000 non-null object\n",
            "surge_pct                       50000 non-null float64\n",
            "ultimate_black_user             50000 non-null bool\n",
            "weekday_pct                     50000 non-null float64\n",
            "avg_dist                        50000 non-null float64\n",
            "avg_rating_by_driver            50000 non-null float64\n",
            "days_between_first_last_trip    50000 non-null float64\n",
            "city_Astapor                    50000 non-null uint8\n",
            "city_King's Landing             50000 non-null uint8\n",
            "city_Winterfell                 50000 non-null uint8\n",
            "dtypes: bool(1), datetime64[ns](2), float64(7), int64(1), object(2), uint8(3)\n",
            "memory usage: 4.8+ MB\n"
          ],
          "name": "stdout"
        }
      ]
    },
    {
      "cell_type": "code",
      "metadata": {
        "id": "25cVPzK0ckeZ",
        "colab_type": "code",
        "outputId": "9d02682a-af5a-402e-a66a-da564df3b250",
        "colab": {
          "base_uri": "https://localhost:8080/",
          "height": 306
        }
      },
      "source": [
        "X = ultimate.drop(['phone','city','signup_date', 'last_trip_date'], axis=1)\n",
        "X.info()"
      ],
      "execution_count": 0,
      "outputs": [
        {
          "output_type": "stream",
          "text": [
            "<class 'pandas.core.frame.DataFrame'>\n",
            "RangeIndex: 50000 entries, 0 to 49999\n",
            "Data columns (total 12 columns):\n",
            "trips_in_first_30_days          50000 non-null int64\n",
            "avg_rating_of_driver            50000 non-null float64\n",
            "avg_surge                       50000 non-null float64\n",
            "surge_pct                       50000 non-null float64\n",
            "ultimate_black_user             50000 non-null bool\n",
            "weekday_pct                     50000 non-null float64\n",
            "avg_dist                        50000 non-null float64\n",
            "avg_rating_by_driver            50000 non-null float64\n",
            "days_between_first_last_trip    50000 non-null float64\n",
            "city_Astapor                    50000 non-null uint8\n",
            "city_King's Landing             50000 non-null uint8\n",
            "city_Winterfell                 50000 non-null uint8\n",
            "dtypes: bool(1), float64(7), int64(1), uint8(3)\n",
            "memory usage: 3.2 MB\n"
          ],
          "name": "stdout"
        }
      ]
    },
    {
      "cell_type": "code",
      "metadata": {
        "id": "60opvPP8Yfgg",
        "colab_type": "code",
        "colab": {}
      },
      "source": [
        "target = X['trips_in_first_30_days'] > 1 \n",
        "X = X.drop(['trips_in_first_30_days'], axis=1)"
      ],
      "execution_count": 0,
      "outputs": []
    },
    {
      "cell_type": "code",
      "metadata": {
        "id": "74rCzdahozbb",
        "colab_type": "code",
        "colab": {}
      },
      "source": [
        "from sklearn.model_selection import train_test_split\n",
        "from sklearn.metrics import roc_curve\n",
        "import matplotlib.pyplot as plt"
      ],
      "execution_count": 0,
      "outputs": []
    },
    {
      "cell_type": "code",
      "metadata": {
        "id": "oxMG1okhsMJ8",
        "colab_type": "code",
        "colab": {}
      },
      "source": [
        "X_train, X_test, y_train, y_test = train_test_split(X, target, test_size=0.25, random_state=123)"
      ],
      "execution_count": 0,
      "outputs": []
    },
    {
      "cell_type": "code",
      "metadata": {
        "id": "Y1HDDmMisizb",
        "colab_type": "code",
        "outputId": "1eca4733-550c-4835-e9b9-bfe226285b53",
        "colab": {
          "base_uri": "https://localhost:8080/",
          "height": 435
        }
      },
      "source": [
        "from sklearn.linear_model import LogisticRegression\n",
        "clf = LogisticRegression().fit(X_train, y_train)\n",
        "print('Score: {}'.format(clf.score(X_test, y_test)))\n",
        "lr_probs = clf.predict_proba(X_test)\n",
        "lr_probs = lr_probs[:, 1]\n",
        "lr_fpr, lr_tpr, _ = roc_curve(y_test, lr_probs)\n",
        "plt.plot(lr_fpr, lr_tpr, marker='.', label='Logistic')"
      ],
      "execution_count": 0,
      "outputs": [
        {
          "output_type": "stream",
          "text": [
            "Score: 0.62224\n"
          ],
          "name": "stdout"
        },
        {
          "output_type": "stream",
          "text": [
            "/usr/local/lib/python3.6/dist-packages/sklearn/linear_model/_logistic.py:940: ConvergenceWarning: lbfgs failed to converge (status=1):\n",
            "STOP: TOTAL NO. of ITERATIONS REACHED LIMIT.\n",
            "\n",
            "Increase the number of iterations (max_iter) or scale the data as shown in:\n",
            "    https://scikit-learn.org/stable/modules/preprocessing.html\n",
            "Please also refer to the documentation for alternative solver options:\n",
            "    https://scikit-learn.org/stable/modules/linear_model.html#logistic-regression\n",
            "  extra_warning_msg=_LOGISTIC_SOLVER_CONVERGENCE_MSG)\n"
          ],
          "name": "stderr"
        },
        {
          "output_type": "execute_result",
          "data": {
            "text/plain": [
              "[<matplotlib.lines.Line2D at 0x7f31a5efd7b8>]"
            ]
          },
          "metadata": {
            "tags": []
          },
          "execution_count": 43
        },
        {
          "output_type": "display_data",
          "data": {
            "image/png": "[encoded data removed]",
            "text/plain": [
              "<Figure size 432x288 with 1 Axes>"
            ]
          },
          "metadata": {
            "tags": []
          }
        }
      ]
    },
    {
      "cell_type": "code",
      "metadata": {
        "id": "ODTfsoZuj_8a",
        "colab_type": "code",
        "outputId": "2f8a11e4-83c4-470d-c33f-02d45f08df17",
        "colab": {
          "base_uri": "https://localhost:8080/",
          "height": 299
        }
      },
      "source": [
        "from sklearn import tree\n",
        "clf = tree.DecisionTreeClassifier()\n",
        "clf = clf.fit(X_train, y_train)\n",
        "print('Score: {}'.format(clf.score(X_test, y_test)))\n",
        "lr_probs = clf.predict_proba(X_test)\n",
        "lr_probs = lr_probs[:, 1]\n",
        "lr_fpr, lr_tpr, _ = roc_curve(y_test, lr_probs)\n",
        "plt.plot(lr_fpr, lr_tpr, marker='.', label='Logistic')"
      ],
      "execution_count": 0,
      "outputs": [
        {
          "output_type": "stream",
          "text": [
            "Score: 0.72592\n"
          ],
          "name": "stdout"
        },
        {
          "output_type": "execute_result",
          "data": {
            "text/plain": [
              "[<matplotlib.lines.Line2D at 0x7f31a32085f8>]"
            ]
          },
          "metadata": {
            "tags": []
          },
          "execution_count": 44
        },
        {
          "output_type": "display_data",
          "data": {
            "image/png": "[encoded data removed]",
            "text/plain": [
              "<Figure size 432x288 with 1 Axes>"
            ]
          },
          "metadata": {
            "tags": []
          }
        }
      ]
    },
    {
      "cell_type": "code",
      "metadata": {
        "id": "cXXEeWaPJ2DH",
        "colab_type": "code",
        "outputId": "5688c1b3-6a25-4bca-bd5e-a6e8b68ab5c0",
        "colab": {
          "base_uri": "https://localhost:8080/",
          "height": 299
        }
      },
      "source": [
        "from sklearn.ensemble import RandomForestClassifier\n",
        "clf = RandomForestClassifier()\n",
        "clf = clf.fit(X_train, y_train)\n",
        "print('Score: {}'.format(clf.score(X_test, y_test)))\n",
        "lr_probs = clf.predict_proba(X_test)\n",
        "lr_probs = lr_probs[:, 1]\n",
        "lr_fpr, lr_tpr, _ = roc_curve(y_test, lr_probs)\n",
        "plt.plot(lr_fpr, lr_tpr, marker='.', label='Logistic')"
      ],
      "execution_count": 0,
      "outputs": [
        {
          "output_type": "stream",
          "text": [
            "Score: 0.78312\n"
          ],
          "name": "stdout"
        },
        {
          "output_type": "execute_result",
          "data": {
            "text/plain": [
              "[<matplotlib.lines.Line2D at 0x7f31a30cc908>]"
            ]
          },
          "metadata": {
            "tags": []
          },
          "execution_count": 45
        },
        {
          "output_type": "display_data",
          "data": {
            "image/png": "[encoded data removed]",
            "text/plain": [
              "<Figure size 432x288 with 1 Axes>"
            ]
          },
          "metadata": {
            "tags": []
          }
        }
      ]
    },
    {
      "cell_type": "markdown",
      "metadata": {
        "id": "bbN0KDkQ_xuo",
        "colab_type": "text"
      },
      "source": [
        "2. I built a prediction model by dividing the data into testing and training data with 25% of the data for testing. Next I tested the data on 3 different classification models. The random forest classifier provided the best results. The ROC curve was used to determine the performance of each model."
      ]
    },
    {
      "cell_type": "markdown",
      "metadata": {
        "id": "G2lOoFfpAnwy",
        "colab_type": "text"
      },
      "source": [
        "3. Using the insights from this model, Ultimate would be able to determine which users will likely be retained and which users may need extra incentives to be a returning customer."
      ]
    },
    {
      "cell_type": "code",
      "metadata": {
        "id": "pVrAbRyKBdPo",
        "colab_type": "code",
        "colab": {}
      },
      "source": [
        ""
      ],
      "execution_count": 0,
      "outputs": []
    }
  ]
}